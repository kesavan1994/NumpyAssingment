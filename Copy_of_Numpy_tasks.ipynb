{
  "cells": [
    {
      "cell_type": "markdown",
      "metadata": {
        "id": "view-in-github",
        "colab_type": "text"
      },
      "source": [
        "<a href=\"https://colab.research.google.com/github/kesavan1994/NumpyAssingment/blob/main/Copy_of_Numpy_tasks.ipynb\" target=\"_parent\"><img src=\"https://colab.research.google.com/assets/colab-badge.svg\" alt=\"Open In Colab\"/></a>"
      ]
    },
    {
      "cell_type": "markdown",
      "metadata": {
        "id": "3fD3dhnhM6B3"
      },
      "source": [
        "# Numpy\n",
        "\n"
      ]
    },
    {
      "cell_type": "markdown",
      "metadata": {
        "id": "1TYNWxyDM6B8"
      },
      "source": [
        "#### 1. Import the numpy package under the name `np` (★☆☆) \n",
        "(**hint**: import … as …)"
      ]
    },
    {
      "cell_type": "code",
      "execution_count": 269,
      "metadata": {
        "collapsed": true,
        "id": "iNtZazpQM6B-"
      },
      "outputs": [],
      "source": [
        "import numpy as np"
      ]
    },
    {
      "cell_type": "markdown",
      "metadata": {
        "id": "7WmgIfFuM6B_"
      },
      "source": [
        "#### 2. Print the numpy version and the configuration (★☆☆) \n",
        "(**hint**: np.\\_\\_version\\_\\_, np.show\\_config)"
      ]
    },
    {
      "cell_type": "code",
      "execution_count": 270,
      "metadata": {
        "id": "S9wSotxuM6CB",
        "outputId": "8de7afea-c01e-4015-a8cd-047783302039",
        "colab": {
          "base_uri": "https://localhost:8080/"
        }
      },
      "outputs": [
        {
          "output_type": "stream",
          "name": "stdout",
          "text": [
            "1.21.6\n",
            "<function show at 0x7f2ca9822670>\n"
          ]
        }
      ],
      "source": [
        "print(np.__version__)\n",
        "print(np.show_config)"
      ]
    },
    {
      "cell_type": "markdown",
      "metadata": {
        "id": "meK9hg_FM6CB"
      },
      "source": [
        "#### 3. Create a null vector of size 10 (★☆☆) \n",
        "(**hint**: np.zeros)"
      ]
    },
    {
      "cell_type": "code",
      "execution_count": 271,
      "metadata": {
        "id": "Aiab_5rJM6CC",
        "outputId": "292cee32-f8ad-4a13-932c-0ba148c92639",
        "colab": {
          "base_uri": "https://localhost:8080/"
        }
      },
      "outputs": [
        {
          "output_type": "execute_result",
          "data": {
            "text/plain": [
              "array([0., 0., 0., ..., 0., 0., 0.])"
            ]
          },
          "metadata": {},
          "execution_count": 271
        }
      ],
      "source": [
        "import numpy as np\n",
        "a=np.zeros(10)\n",
        "a"
      ]
    },
    {
      "cell_type": "markdown",
      "metadata": {
        "id": "5c4oMLiyM6CC"
      },
      "source": [
        "#### 4.  How to find the memory size of any array (★☆☆) \n",
        "(**hint**: size, itemsize)"
      ]
    },
    {
      "cell_type": "code",
      "execution_count": 272,
      "metadata": {
        "id": "ZKBb8HcbM6CD",
        "outputId": "535eb29d-31e9-4a8a-89b8-dd915140d5a6",
        "colab": {
          "base_uri": "https://localhost:8080/"
        }
      },
      "outputs": [
        {
          "output_type": "stream",
          "name": "stdout",
          "text": [
            "10\n",
            "8\n"
          ]
        }
      ],
      "source": [
        "print(a.size)\n",
        "print(a.itemsize)"
      ]
    },
    {
      "cell_type": "markdown",
      "metadata": {
        "id": "QN22e1nDM6CD"
      },
      "source": [
        "#### 5.  How to get the documentation of the numpy add function from the command line? (★☆☆) \n",
        "(**hint**: np.info)"
      ]
    },
    {
      "cell_type": "code",
      "execution_count": 272,
      "metadata": {
        "collapsed": true,
        "id": "5fDmTeIOM6CE"
      },
      "outputs": [],
      "source": []
    },
    {
      "cell_type": "markdown",
      "metadata": {
        "id": "uyCauVk4M6CE"
      },
      "source": [
        "#### 6.  Create a null vector of size 10 but the fifth value which is 1 (★☆☆) \n",
        "(**hint**: array\\[4\\])"
      ]
    },
    {
      "cell_type": "code",
      "execution_count": 272,
      "metadata": {
        "id": "dKVEGhWEM6CF"
      },
      "outputs": [],
      "source": []
    },
    {
      "cell_type": "markdown",
      "metadata": {
        "id": "XdLfhh2vM6CF"
      },
      "source": [
        "#### 7.  Create a vector with values ranging from 10 to 49 (★☆☆) \n",
        "(**hint**: np.arange)"
      ]
    },
    {
      "cell_type": "code",
      "execution_count": 273,
      "metadata": {
        "id": "qWTKCBsjM6CG",
        "outputId": "0ae07119-304b-412a-a556-3353f3abf2cf",
        "colab": {
          "base_uri": "https://localhost:8080/"
        }
      },
      "outputs": [
        {
          "output_type": "execute_result",
          "data": {
            "text/plain": [
              "array([10, 11, 12, ..., 47, 48, 49])"
            ]
          },
          "metadata": {},
          "execution_count": 273
        }
      ],
      "source": [
        "np.arange(10,50)"
      ]
    },
    {
      "cell_type": "markdown",
      "metadata": {
        "id": "sonwH0vRM6CG"
      },
      "source": [
        "#### 8.  Reverse a vector (first element becomes last) (★☆☆) \n",
        "(**hint**: array\\[::-1\\])"
      ]
    },
    {
      "cell_type": "code",
      "execution_count": 274,
      "metadata": {
        "id": "CWvin_lQM6CG",
        "outputId": "c74463d5-0cc8-4c51-ed77-21caaee81287",
        "colab": {
          "base_uri": "https://localhost:8080/"
        }
      },
      "outputs": [
        {
          "output_type": "execute_result",
          "data": {
            "text/plain": [
              "[5, 4, 3, 2, 1]"
            ]
          },
          "metadata": {},
          "execution_count": 274
        }
      ],
      "source": [
        "a=[1,2,3,4,5]\n",
        "a[::-1]"
      ]
    },
    {
      "cell_type": "markdown",
      "metadata": {
        "id": "t91_zjfZM6CH"
      },
      "source": [
        "#### 9.  Create a 3x3 matrix with values ranging from 0 to 8 (★☆☆) \n",
        "(**hint**: reshape)"
      ]
    },
    {
      "cell_type": "code",
      "execution_count": 275,
      "metadata": {
        "id": "x4POMNvsM6CH",
        "outputId": "c7883bfd-4239-4d9f-b963-eacd992695b3",
        "colab": {
          "base_uri": "https://localhost:8080/"
        }
      },
      "outputs": [
        {
          "output_type": "execute_result",
          "data": {
            "text/plain": [
              "array([[0, 1, 2],\n",
              "       [3, 4, 5],\n",
              "       [6, 7, 8]])"
            ]
          },
          "metadata": {},
          "execution_count": 275
        }
      ],
      "source": [
        "a=np.arange(0,9)\n",
        "a.reshape(3,3)"
      ]
    },
    {
      "cell_type": "markdown",
      "metadata": {
        "id": "HFQ7mUsMM6CH"
      },
      "source": [
        "#### 10. Find indices of non-zero elements from \\[1,2,0,0,4,0\\] (★☆☆) \n",
        "(**hint**: np.nonzero)"
      ]
    },
    {
      "cell_type": "code",
      "execution_count": 276,
      "metadata": {
        "id": "7RfzFSHzM6CI",
        "colab": {
          "base_uri": "https://localhost:8080/"
        },
        "outputId": "e6c8d890-212a-47ff-a61e-31fa91ce7564"
      },
      "outputs": [
        {
          "output_type": "execute_result",
          "data": {
            "text/plain": [
              "(array([0, 1, 4]),)"
            ]
          },
          "metadata": {},
          "execution_count": 276
        }
      ],
      "source": [
        "a=[1,2,0,0,4,0]\n",
        "np.nonzero(a)"
      ]
    },
    {
      "cell_type": "markdown",
      "metadata": {
        "id": "e8z0nBMiM6CI"
      },
      "source": [
        "#### 11. Create a 3x3 identity matrix (★☆☆) \n",
        "(**hint**: np.eye)"
      ]
    },
    {
      "cell_type": "code",
      "execution_count": 277,
      "metadata": {
        "id": "jJJnoevXM6CJ",
        "outputId": "30cb8a00-5e6c-4e4b-e549-f028c71e8cae",
        "colab": {
          "base_uri": "https://localhost:8080/"
        }
      },
      "outputs": [
        {
          "output_type": "execute_result",
          "data": {
            "text/plain": [
              "array([[1., 0., 0.],\n",
              "       [0., 1., 0.],\n",
              "       [0., 0., 1.]])"
            ]
          },
          "metadata": {},
          "execution_count": 277
        }
      ],
      "source": [
        "a=np.eye(3,3)\n",
        "a"
      ]
    },
    {
      "cell_type": "markdown",
      "metadata": {
        "id": "rf7Ud3iGM6CJ"
      },
      "source": [
        "#### 12. Create a 3x3x3 array with random values (★☆☆) \n",
        "(**hint**: np.random.random)"
      ]
    },
    {
      "cell_type": "code",
      "execution_count": 278,
      "metadata": {
        "collapsed": true,
        "id": "QT6Fgq1DM6CJ",
        "outputId": "c88ac554-c560-4681-fcad-af379a127562",
        "colab": {
          "base_uri": "https://localhost:8080/"
        }
      },
      "outputs": [
        {
          "output_type": "execute_result",
          "data": {
            "text/plain": [
              "array([[[0.15901159, 0.90529534, 0.51301839],\n",
              "        [0.96363836, 0.49191274, 0.08941276],\n",
              "        [0.0918445 , 0.32681586, 0.0089041 ]],\n",
              "\n",
              "       [[0.42873652, 0.79011043, 0.85128237],\n",
              "        [0.40837869, 0.32446648, 0.23385261],\n",
              "        [0.30321302, 0.2836246 , 0.6765078 ]],\n",
              "\n",
              "       [[0.44406165, 0.94791386, 0.89089825],\n",
              "        [0.00774343, 0.95242709, 0.70071713],\n",
              "        [0.23614441, 0.7073955 , 0.54927634]]])"
            ]
          },
          "metadata": {},
          "execution_count": 278
        }
      ],
      "source": [
        "b=np.random.random((3,3,3))\n",
        "b"
      ]
    },
    {
      "cell_type": "markdown",
      "metadata": {
        "id": "t0t9Kz3QM6CK"
      },
      "source": [
        "#### 13. Create a 10x10 array with random values and find the minimum and maximum values (★☆☆) \n",
        "(**hint**: min, max)"
      ]
    },
    {
      "cell_type": "code",
      "execution_count": 279,
      "metadata": {
        "id": "ZaQIRU8dM6CK",
        "outputId": "6042cb0b-0386-4fb1-a1d5-9eacc99b8035",
        "colab": {
          "base_uri": "https://localhost:8080/"
        }
      },
      "outputs": [
        {
          "output_type": "stream",
          "name": "stdout",
          "text": [
            "[[8 6 2 ... 1 6 4]\n",
            " [0 2 7 ... 5 6 2]\n",
            " [2 2 4 ... 2 0 8]\n",
            " ...\n",
            " [5 5 1 ... 2 8 0]\n",
            " [7 4 4 ... 3 0 8]\n",
            " [2 9 4 ... 6 7 7]]\n",
            "min: 0 max: 9\n"
          ]
        }
      ],
      "source": [
        "ra=np.random.randint(0,10,100)\n",
        "print(ra.reshape(10,10))\n",
        "print('min:', ra.min(), 'max:' ,ra.max())"
      ]
    },
    {
      "cell_type": "markdown",
      "metadata": {
        "id": "h38GMQsnM6CK"
      },
      "source": [
        "#### 14. Create a random vector of size 30 and find the mean value (★☆☆) \n",
        "(**hint**: mean)"
      ]
    },
    {
      "cell_type": "code",
      "execution_count": 280,
      "metadata": {
        "id": "-yG2N-ECM6CK",
        "outputId": "980b950f-16d5-475a-fb12-714f8977a688",
        "colab": {
          "base_uri": "https://localhost:8080/"
        }
      },
      "outputs": [
        {
          "output_type": "stream",
          "name": "stdout",
          "text": [
            "[ 7  3  2 ...  1  2 12]\n",
            "mean: 10.366666666666667\n"
          ]
        }
      ],
      "source": [
        "import numpy as np\n",
        "\n",
        "n=np.random.randint(1,20,30)\n",
        "print(n)\n",
        "\n",
        "print('mean:',n.mean())"
      ]
    },
    {
      "cell_type": "markdown",
      "metadata": {
        "id": "B5dMxzITM6CL"
      },
      "source": [
        "#### 15. Create a 2d array with 1 on the border and 0 inside (★☆☆) \n",
        "(**hint**: array\\[1:-1, 1:-1\\])"
      ]
    },
    {
      "cell_type": "code",
      "execution_count": 281,
      "metadata": {
        "id": "qjIHq6v-M6CL",
        "colab": {
          "base_uri": "https://localhost:8080/"
        },
        "outputId": "164d081e-bdea-42eb-dcf1-db861dbad9ca"
      },
      "outputs": [
        {
          "output_type": "stream",
          "name": "stdout",
          "text": [
            "[[1. 1. 1. 1. 1.]\n",
            " [1. 0. 0. 0. 1.]\n",
            " [1. 0. 0. 0. 1.]\n",
            " [1. 0. 0. 0. 1.]\n",
            " [1. 1. 1. 1. 1.]]\n"
          ]
        }
      ],
      "source": [
        "a=np.zeros(9).reshape(3,3)\n",
        "a=np.pad(a, pad_width=1, mode='constant',\n",
        "               constant_values=1)\n",
        "print(a)"
      ]
    },
    {
      "cell_type": "markdown",
      "metadata": {
        "id": "-4sm7N2LM6CL"
      },
      "source": [
        "#### 16. How to add a border (filled with 0's) around an existing array? (★☆☆) \n",
        "(**hint**: np.pad)"
      ]
    },
    {
      "cell_type": "code",
      "execution_count": 282,
      "metadata": {
        "id": "Rd_ZGuIjM6CM",
        "colab": {
          "base_uri": "https://localhost:8080/"
        },
        "outputId": "4b9bde51-bb32-4906-868c-b6211b1b7f5b"
      },
      "outputs": [
        {
          "output_type": "stream",
          "name": "stdout",
          "text": [
            "[[0. 0. 0. 0. 0.]\n",
            " [0. 1. 1. 1. 0.]\n",
            " [0. 1. 1. 1. 0.]\n",
            " [0. 1. 1. 1. 0.]\n",
            " [0. 0. 0. 0. 0.]]\n"
          ]
        }
      ],
      "source": [
        "a=np.ones(9).reshape(3,3)\n",
        "\n",
        "a=np.pad(a, pad_width=1, mode='constant',\n",
        "               constant_values=0)\n",
        "print(a)"
      ]
    },
    {
      "cell_type": "markdown",
      "metadata": {
        "id": "Zllr31vHM6CM"
      },
      "source": [
        "#### 17. What is the result of the following expression? (★☆☆) \n",
        "(**hint**: NaN = not a number, inf = infinity)"
      ]
    },
    {
      "cell_type": "markdown",
      "metadata": {
        "id": "45QkO-Z-M6CM"
      },
      "source": [
        "```python\n",
        "0 * np.nan\n",
        "np.nan == np.nan\n",
        "np.inf > np.nan\n",
        "np.nan - np.nan\n",
        "0.3 == 3 * 0.1\n",
        "```"
      ]
    },
    {
      "cell_type": "code",
      "source": [
        "#nan\n",
        "#False\n",
        "#False\n",
        "#nan\n",
        "#False"
      ],
      "metadata": {
        "id": "Vxy0pbssrK-d"
      },
      "execution_count": 283,
      "outputs": []
    },
    {
      "cell_type": "markdown",
      "metadata": {
        "id": "GUd70cAVM6CN"
      },
      "source": [
        "#### 18. Create a 5x5 matrix with values 1,2,3,4 just below the diagonal (★☆☆) \n",
        "(**hint**: np.diag)"
      ]
    },
    {
      "cell_type": "code",
      "execution_count": 284,
      "metadata": {
        "id": "11QEhXQIM6CN",
        "colab": {
          "base_uri": "https://localhost:8080/"
        },
        "outputId": "4f721ba3-eedf-4667-caf2-70648b23ddc6"
      },
      "outputs": [
        {
          "output_type": "execute_result",
          "data": {
            "text/plain": [
              "array([[0, 0, 0, 0, 0],\n",
              "       [1, 0, 0, 0, 0],\n",
              "       [0, 2, 0, 0, 0],\n",
              "       [0, 0, 3, 0, 0],\n",
              "       [0, 0, 0, 4, 0]])"
            ]
          },
          "metadata": {},
          "execution_count": 284
        }
      ],
      "source": [
        "import numpy as np\n",
        "a=np.arange(1,5)\n",
        "np.diag(a,k=-1)\n"
      ]
    },
    {
      "cell_type": "markdown",
      "metadata": {
        "id": "viL_RdSqM6CN"
      },
      "source": [
        "#### 19. Create a 8x8 matrix and fill it with a checkerboard pattern (★☆☆) \n",
        "(**hint**: array\\[::2\\])"
      ]
    },
    {
      "cell_type": "code",
      "execution_count": 285,
      "metadata": {
        "id": "UPRH__BZM6CO",
        "colab": {
          "base_uri": "https://localhost:8080/"
        },
        "outputId": "f9cadc37-1996-4bd4-ad93-7c8edd570144"
      },
      "outputs": [
        {
          "output_type": "execute_result",
          "data": {
            "text/plain": [
              "array([[0, 1, 0, ..., 1, 0, 1],\n",
              "       [1, 0, 1, ..., 0, 1, 0],\n",
              "       [0, 1, 0, ..., 1, 0, 1],\n",
              "       ...,\n",
              "       [1, 0, 1, ..., 0, 1, 0],\n",
              "       [0, 1, 0, ..., 1, 0, 1],\n",
              "       [1, 0, 1, ..., 0, 1, 0]])"
            ]
          },
          "metadata": {},
          "execution_count": 285
        }
      ],
      "source": [
        "a=np.zeros((8,8),dtype=int)\n",
        "a[1::2,::2]=1\n",
        "a[::2,1::2]=1\n",
        "a"
      ]
    },
    {
      "cell_type": "markdown",
      "metadata": {
        "id": "q0DXsYLEM6CO"
      },
      "source": [
        "#### 20. Consider a (6,7,8) shape array, what is the index (x,y,z) of the 100th element? \n",
        "(**hint**: np.unravel_index)"
      ]
    },
    {
      "cell_type": "code",
      "execution_count": 286,
      "metadata": {
        "id": "mUvAL2XAM6CO",
        "colab": {
          "base_uri": "https://localhost:8080/"
        },
        "outputId": "e59dca67-c272-493a-ee1c-541f516be0f7"
      },
      "outputs": [
        {
          "output_type": "execute_result",
          "data": {
            "text/plain": [
              "(1, 5, 4)"
            ]
          },
          "metadata": {},
          "execution_count": 286
        }
      ],
      "source": [
        "a=np.random.random((6,7,8))\n",
        "np.unravel_index(100,a.shape)\n"
      ]
    },
    {
      "cell_type": "markdown",
      "metadata": {
        "id": "eiazuFvXM6CP"
      },
      "source": [
        "#### 21. Create a checkerboard 8x8 matrix using the tile function (★☆☆) \n",
        "(**hint**: np.tile)"
      ]
    },
    {
      "cell_type": "code",
      "execution_count": 287,
      "metadata": {
        "id": "JVOx7oKmM6CP",
        "colab": {
          "base_uri": "https://localhost:8080/"
        },
        "outputId": "15c9dfee-4c9e-45f6-c035-0b2fe98e08fd"
      },
      "outputs": [
        {
          "output_type": "execute_result",
          "data": {
            "text/plain": [
              "array([[0, 1, 0, ..., 1, 0, 1],\n",
              "       [1, 0, 1, ..., 0, 1, 0],\n",
              "       [0, 1, 0, ..., 1, 0, 1],\n",
              "       ...,\n",
              "       [1, 0, 1, ..., 0, 1, 0],\n",
              "       [0, 1, 0, ..., 1, 0, 1],\n",
              "       [1, 0, 1, ..., 0, 1, 0]])"
            ]
          },
          "metadata": {},
          "execution_count": 287
        }
      ],
      "source": [
        "a=np.array([[0,1],[1,0]])\n",
        "np.tile(a,(4,4))"
      ]
    },
    {
      "cell_type": "markdown",
      "metadata": {
        "id": "xFaVFW_TM6CQ"
      },
      "source": [
        "#### 22. Normalize a 5x5 random matrix (★☆☆) \n",
        "(**hint**: (x - min) / (max - min))"
      ]
    },
    {
      "cell_type": "code",
      "execution_count": 288,
      "metadata": {
        "id": "B1I9FyhkM6CQ",
        "colab": {
          "base_uri": "https://localhost:8080/"
        },
        "outputId": "9b5c96a4-8b5e-4d5e-d9dc-01a029bda6f2"
      },
      "outputs": [
        {
          "output_type": "execute_result",
          "data": {
            "text/plain": [
              "array([[0.90454492, 0.8379552 , 0.97471976, 0.3177334 , 0.12740415],\n",
              "       [0.55821452, 0.82898039, 0.        , 0.46973195, 0.41462282],\n",
              "       [0.10747783, 1.        , 0.41905219, 0.40857987, 0.52866108],\n",
              "       [0.95564432, 0.24462977, 0.68328512, 0.80119457, 0.72054513],\n",
              "       [0.50024276, 0.33871998, 0.12129511, 0.78408936, 0.11224618]])"
            ]
          },
          "metadata": {},
          "execution_count": 288
        }
      ],
      "source": [
        "a=np.random.random((5,5))\n",
        "min_a,max_a = a.min(),a.max()\n",
        "c=(a-min_a)/(max_a-min_a)\n",
        "c"
      ]
    },
    {
      "cell_type": "markdown",
      "metadata": {
        "id": "VXYJQKo2M6CR"
      },
      "source": [
        "#### 23. Create a custom dtype that describes a color as four unsigned bytes (RGBA) (★☆☆) \n",
        "(**hint**: np.dtype)"
      ]
    },
    {
      "cell_type": "code",
      "execution_count": 288,
      "metadata": {
        "collapsed": true,
        "id": "HmEA7XQuM6CR"
      },
      "outputs": [],
      "source": []
    },
    {
      "cell_type": "markdown",
      "metadata": {
        "id": "5tzG8_UgM6CR"
      },
      "source": [
        "#### 24. Multiply a 5x3 matrix by a 3x2 matrix (real matrix product) (★☆☆) \n",
        "(**hint**: np.dot | @)"
      ]
    },
    {
      "cell_type": "code",
      "execution_count": 289,
      "metadata": {
        "id": "QWn9o66zM6CS",
        "colab": {
          "base_uri": "https://localhost:8080/"
        },
        "outputId": "0ba8426e-0cb9-479e-f559-390ae450eaad"
      },
      "outputs": [
        {
          "output_type": "execute_result",
          "data": {
            "text/plain": [
              "array([[4., 4.],\n",
              "       [5., 5.],\n",
              "       [5., 5.],\n",
              "       [5., 5.],\n",
              "       [5., 5.]])"
            ]
          },
          "metadata": {},
          "execution_count": 289
        }
      ],
      "source": [
        "\n",
        "np.dot(np.random.randint(1,3,(5,3)),np.ones((3,2)))"
      ]
    },
    {
      "cell_type": "markdown",
      "metadata": {
        "id": "vKCFUcHjM6CS"
      },
      "source": [
        "#### 25. Given a 1D array, negate all elements which are between 3 and 8, in place. (★☆☆) \n",
        "(**hint**: >, <=)"
      ]
    },
    {
      "cell_type": "code",
      "execution_count": 290,
      "metadata": {
        "id": "u0wsAcPDM6CS",
        "colab": {
          "base_uri": "https://localhost:8080/"
        },
        "outputId": "217c1449-1193-4842-df02-370a61e869b3"
      },
      "outputs": [
        {
          "output_type": "stream",
          "name": "stdout",
          "text": [
            "[5 1 3 ... 6 8 5]\n"
          ]
        },
        {
          "output_type": "execute_result",
          "data": {
            "text/plain": [
              "array(['5', '', '', ..., '6', '8', '5'], dtype='<U21')"
            ]
          },
          "metadata": {},
          "execution_count": 290
        }
      ],
      "source": [
        "a=np.random.randint(1,10,10)\n",
        "print(a)\n",
        "np.where((a>3) & (a<=8),a,'')"
      ]
    },
    {
      "cell_type": "markdown",
      "metadata": {
        "id": "MKuf6HsQM6CS"
      },
      "source": [
        "#### 26. What is the output of the following script? (★☆☆) \n",
        "(**hint**: np.sum)"
      ]
    },
    {
      "cell_type": "markdown",
      "metadata": {
        "id": "FVrK8n4ZM6CS"
      },
      "source": [
        "```python\n",
        "# Author: Jake VanderPlas\n",
        "\n",
        "print(sum(range(5),-1))\n",
        "from numpy import *\n",
        "print(sum(range(5),-1))\n",
        "```"
      ]
    },
    {
      "cell_type": "code",
      "execution_count": 291,
      "metadata": {
        "id": "FH5Z51abM6CT",
        "colab": {
          "base_uri": "https://localhost:8080/"
        },
        "outputId": "30aecc7d-3fa6-45a3-dee8-4f3817e30c66"
      },
      "outputs": [
        {
          "output_type": "execute_result",
          "data": {
            "text/plain": [
              "10"
            ]
          },
          "metadata": {},
          "execution_count": 291
        }
      ],
      "source": [
        "9\n",
        "10"
      ]
    },
    {
      "cell_type": "markdown",
      "metadata": {
        "id": "u9CNFqjTM6CT"
      },
      "source": [
        "#### 27. Consider an integer vector Z, which of these expressions are legal? (★☆☆)"
      ]
    },
    {
      "cell_type": "markdown",
      "metadata": {
        "id": "zNCTx8meM6CT"
      },
      "source": [
        "```python\n",
        "Z**Z\n",
        "2 << Z >> 2\n",
        "Z <- Z\n",
        "1j*Z\n",
        "Z/1/1\n",
        "Z<Z>Z\n",
        "```"
      ]
    },
    {
      "cell_type": "code",
      "execution_count": 292,
      "metadata": {
        "id": "I_WBCR9gM6CT",
        "colab": {
          "base_uri": "https://localhost:8080/"
        },
        "outputId": "7f95a569-b6b7-47f1-ce39-72175c47b29b"
      },
      "outputs": [
        {
          "output_type": "execute_result",
          "data": {
            "text/plain": [
              "False"
            ]
          },
          "metadata": {},
          "execution_count": 292
        }
      ],
      "source": [
        "True\n",
        "False\n",
        "\n",
        "\n"
      ]
    },
    {
      "cell_type": "markdown",
      "metadata": {
        "id": "SAZ9DooKM6CT"
      },
      "source": [
        "#### 28. What are the result of the following expressions?"
      ]
    },
    {
      "cell_type": "markdown",
      "metadata": {
        "id": "3SXUDfLvM6CU"
      },
      "source": [
        "```python\n",
        "np.array(0) / np.array(0)\n",
        "np.array(0) // np.array(0)\n",
        "np.array([np.nan]).astype(int).astype(float)\n",
        "```"
      ]
    },
    {
      "cell_type": "code",
      "source": [
        "# Nan \n",
        "# runtime error because of floor divion not divisiable by zero"
      ],
      "metadata": {
        "id": "fy744tOX8G_W"
      },
      "execution_count": 293,
      "outputs": []
    },
    {
      "cell_type": "markdown",
      "metadata": {
        "id": "PSh8jrVaM6CU"
      },
      "source": [
        "#### 29. How to round away from zero a float array ? (★☆☆) \n",
        "(**hint**: np.uniform, np.copysign, np.ceil, np.abs)"
      ]
    },
    {
      "cell_type": "code",
      "execution_count": 294,
      "metadata": {
        "id": "Rh6LB5mCM6CU",
        "colab": {
          "base_uri": "https://localhost:8080/",
          "height": 201
        },
        "outputId": "b4952285-bd0f-4926-db8b-c9c03cfeafd7"
      },
      "outputs": [
        {
          "output_type": "error",
          "ename": "TypeError",
          "evalue": "ignored",
          "traceback": [
            "\u001b[0;31m---------------------------------------------------------------------------\u001b[0m",
            "\u001b[0;31mTypeError\u001b[0m                                 Traceback (most recent call last)",
            "\u001b[0;32m<ipython-input-294-290572ad589a>\u001b[0m in \u001b[0;36m<module>\u001b[0;34m\u001b[0m\n\u001b[1;32m      1\u001b[0m \u001b[0ma\u001b[0m\u001b[0;34m=\u001b[0m\u001b[0mnp\u001b[0m\u001b[0;34m.\u001b[0m\u001b[0mrandom\u001b[0m\u001b[0;34m.\u001b[0m\u001b[0mrandn\u001b[0m\u001b[0;34m(\u001b[0m\u001b[0;36m5\u001b[0m\u001b[0;34m)\u001b[0m\u001b[0;34m\u001b[0m\u001b[0;34m\u001b[0m\u001b[0m\n\u001b[1;32m      2\u001b[0m \u001b[0;31m#print(a.uniform())\u001b[0m\u001b[0;34m\u001b[0m\u001b[0;34m\u001b[0m\u001b[0;34m\u001b[0m\u001b[0m\n\u001b[0;32m----> 3\u001b[0;31m \u001b[0mprint\u001b[0m\u001b[0;34m(\u001b[0m\u001b[0mnp\u001b[0m\u001b[0;34m.\u001b[0m\u001b[0mcopysign\u001b[0m\u001b[0;34m(\u001b[0m\u001b[0ma\u001b[0m\u001b[0;34m)\u001b[0m\u001b[0;34m)\u001b[0m\u001b[0;34m\u001b[0m\u001b[0;34m\u001b[0m\u001b[0m\n\u001b[0m",
            "\u001b[0;31mTypeError\u001b[0m: copysign() takes from 2 to 3 positional arguments but 1 were given"
          ]
        }
      ],
      "source": [
        "a=np.random.randn(5)\n",
        "#print(a.uniform())\n",
        "print(np.copysign(a))"
      ]
    },
    {
      "cell_type": "markdown",
      "metadata": {
        "id": "X7TlLwvDM6CU"
      },
      "source": [
        "#### 30. How to find common values between two arrays? (★☆☆) \n",
        "(**hint**: np.intersect1d)"
      ]
    },
    {
      "cell_type": "code",
      "execution_count": null,
      "metadata": {
        "id": "2kQvXyFyM6CV"
      },
      "outputs": [],
      "source": [
        "a=[1,3,5,6,7]\n",
        "b=[2,4,6,8]\n",
        "np.intersect1d(a,b)"
      ]
    },
    {
      "cell_type": "markdown",
      "metadata": {
        "id": "sPYVAoRmM6CV"
      },
      "source": [
        "#### 31. How to ignore all numpy warnings (not recommended)? (★☆☆) \n",
        "(**hint**: np.seterr, np.errstate)"
      ]
    },
    {
      "cell_type": "code",
      "execution_count": null,
      "metadata": {
        "id": "YEvtdpI5M6CV"
      },
      "outputs": [],
      "source": []
    },
    {
      "cell_type": "markdown",
      "metadata": {
        "id": "awcPw5otM6CV"
      },
      "source": [
        "#### 32. Is the following expressions true? (★☆☆) \n",
        "(**hint**: imaginary number)"
      ]
    },
    {
      "cell_type": "markdown",
      "metadata": {
        "id": "Dxzn-j5bM6CV"
      },
      "source": [
        "```python\n",
        "np.sqrt(-1) == np.emath.sqrt(-1)\n",
        "```"
      ]
    },
    {
      "cell_type": "code",
      "execution_count": null,
      "metadata": {
        "id": "gGKKcxRrM6CW"
      },
      "outputs": [],
      "source": [
        "False"
      ]
    },
    {
      "cell_type": "markdown",
      "metadata": {
        "id": "CcQ4hOJTM6CW"
      },
      "source": [
        "#### 33. How to get the dates of yesterday, today and tomorrow? (★☆☆) \n",
        "(**hint**: np.datetime64, np.timedelta64)"
      ]
    },
    {
      "cell_type": "code",
      "execution_count": null,
      "metadata": {
        "collapsed": true,
        "id": "vcql9X58M6CW"
      },
      "outputs": [],
      "source": [
        "print(np.datetime64(19364,'D'))\n",
        "print(np.datetime64(19365,'D'))\n",
        "print(np.datetime64(19366,'D'))"
      ]
    },
    {
      "cell_type": "markdown",
      "metadata": {
        "id": "ZuyMILUdM6CW"
      },
      "source": [
        "#### 34. How to get all the dates corresponding to the month of July 2016? (★★☆) \n",
        "(**hint**: np.arange(dtype=datetime64\\['D'\\]))"
      ]
    },
    {
      "cell_type": "code",
      "execution_count": null,
      "metadata": {
        "id": "oNfulnIfM6CW"
      },
      "outputs": [],
      "source": [
        "print(np.datetime64(16983,'D'))\n",
        "a=(np.datetime64(16983,'D'))\n",
        "np.arange(a,31,)"
      ]
    },
    {
      "cell_type": "markdown",
      "metadata": {
        "id": "Q2mHPnX4M6CW"
      },
      "source": [
        "#### 35. How to compute ((A+B)\\*(-A/2)) in place (without copy)? (★★☆) \n",
        "(**hint**: np.add(out=), np.negative(out=), np.multiply(out=), np.divide(out=))"
      ]
    },
    {
      "cell_type": "code",
      "execution_count": null,
      "metadata": {
        "id": "zO6EING4M6CX"
      },
      "outputs": [],
      "source": [
        "a=10\n",
        "b=5\n",
        "np.multiply((np.add(a,b)),(np.divide(-a,2)))"
      ]
    },
    {
      "cell_type": "markdown",
      "metadata": {
        "id": "Ov8uTvy8M6CX"
      },
      "source": [
        "#### 36. Extract the integer part of a random array using 5 different methods (★★☆) \n",
        "(**hint**: %, np.floor, np.ceil, astype, np.trunc)"
      ]
    },
    {
      "cell_type": "code",
      "execution_count": null,
      "metadata": {
        "id": "z4pM_kVrM6CX"
      },
      "outputs": [],
      "source": [
        "from typing_extensions import assert_type\n",
        "import numpy as np\n",
        "a=np.random.randn(5)\n",
        "print(a)\n",
        "print(np.floor(a))\n",
        "print(np.ceil(a))\n",
        "print(a.astype(int))\n",
        "print(np.trunc(a))\n"
      ]
    },
    {
      "cell_type": "markdown",
      "metadata": {
        "id": "45c9rxRaM6CX"
      },
      "source": [
        "#### 37. Create a 5x5 matrix with row values ranging from 0 to 4 (★★☆) \n",
        "(**hint**: np.arange)"
      ]
    },
    {
      "cell_type": "code",
      "execution_count": null,
      "metadata": {
        "id": "LzKbh2B3M6CX"
      },
      "outputs": [],
      "source": [
        "b=np.ones((5,5))\n",
        "a=np.arange(5)\n",
        "np.multiply(b,a)"
      ]
    },
    {
      "cell_type": "markdown",
      "metadata": {
        "id": "KaPTPw3FM6CX"
      },
      "source": [
        "#### 38. Consider a generator function that generates 10 integers and use it to build an array (★☆☆) \n",
        "(**hint**: np.fromiter)"
      ]
    },
    {
      "cell_type": "code",
      "execution_count": null,
      "metadata": {
        "id": "kp3M994mM6CX"
      },
      "outputs": [],
      "source": [
        "iter=[x+x for x in range(10)]\n",
        "np.fromiter(iter,int)"
      ]
    },
    {
      "cell_type": "markdown",
      "metadata": {
        "id": "9_7VpHN1M6CY"
      },
      "source": [
        "#### 39. Create a vector of size 10 with values ranging from 0 to 1, both excluded (★★☆) \n",
        "(**hint**: np.linspace)"
      ]
    },
    {
      "cell_type": "code",
      "execution_count": null,
      "metadata": {
        "id": "w9g97vy3M6CY"
      },
      "outputs": [],
      "source": [
        "np.linspace(0,1,10)"
      ]
    },
    {
      "cell_type": "markdown",
      "metadata": {
        "id": "C_g3nQxjM6CY"
      },
      "source": [
        "#### 40. Create a random vector of size 10 and sort it (★★☆) \n",
        "(**hint**: sort)"
      ]
    },
    {
      "cell_type": "code",
      "execution_count": null,
      "metadata": {
        "id": "Fz3JDABZM6CY"
      },
      "outputs": [],
      "source": [
        "sorted(np.random.randint(1,8,10))\n"
      ]
    },
    {
      "cell_type": "markdown",
      "metadata": {
        "id": "Db8A5hGjM6CZ"
      },
      "source": [
        "#### 41. How to sum a small array faster than np.sum? (★★☆) \n",
        "(**hint**: np.add.reduce)"
      ]
    },
    {
      "cell_type": "code",
      "execution_count": null,
      "metadata": {
        "id": "Zq31O6NCM6CZ"
      },
      "outputs": [],
      "source": [
        "X = np.arange(8).reshape((2,2,2))\n",
        "print(X)\n",
        "np.add.reduce(X,2)"
      ]
    },
    {
      "cell_type": "markdown",
      "metadata": {
        "id": "rCW5laT4M6CZ"
      },
      "source": [
        "#### 42. Consider two random array A and B, check if they are equal (★★☆) \n",
        "(**hint**: np.allclose, np.array\\_equal)"
      ]
    },
    {
      "cell_type": "code",
      "execution_count": null,
      "metadata": {
        "id": "cOCiUmGNM6CZ"
      },
      "outputs": [],
      "source": [
        "a=np.random.random(5)\n",
        "b=np.random.random(5)\n",
        "print(a,b)\n",
        "print(np.allclose(a,b))\n",
        "print(np.array_equal(a,b))\n"
      ]
    },
    {
      "cell_type": "markdown",
      "metadata": {
        "id": "2kyLux81M6CZ"
      },
      "source": [
        "#### 43. Make an array immutable (read-only) (★★☆) \n",
        "(**hint**: flags.writeable)"
      ]
    },
    {
      "cell_type": "code",
      "execution_count": null,
      "metadata": {
        "id": "krBk9bFKM6CZ"
      },
      "outputs": [],
      "source": [
        "z=np.linspace(1,5,3)\n",
        "z.flags.writeable=False\n",
        "z[0]=1"
      ]
    },
    {
      "cell_type": "markdown",
      "metadata": {
        "id": "BA5SdWJGM6CZ"
      },
      "source": [
        "#### 44. Consider a random 10x2 matrix representing cartesian coordinates, convert them to polar coordinates (★★☆) \n",
        "(**hint**: np.sqrt, np.arctan2)"
      ]
    },
    {
      "cell_type": "code",
      "execution_count": null,
      "metadata": {
        "id": "UajvoTITM6Ce"
      },
      "outputs": [],
      "source": [
        "a=np.random.random(20).reshape(10,2)\n",
        "x,y=a[:,0],a[:,1]\n",
        "r=np.sqrt(x**2,y**2)\n",
        "ar=np.arctan(y,x)\n",
        "print(r)\n",
        "print(ar)"
      ]
    },
    {
      "cell_type": "markdown",
      "metadata": {
        "id": "1-zhPWxVM6Ce"
      },
      "source": [
        "#### 45. Create random vector of size 10 and replace the maximum value by 0 (★★☆) \n",
        "(**hint**: argmax)"
      ]
    },
    {
      "cell_type": "code",
      "execution_count": null,
      "metadata": {
        "id": "RquQpfYzM6Ce"
      },
      "outputs": [],
      "source": [
        "a=np.arange(1,10)\n",
        "\n",
        "a[np.argmax(a)]=0\n",
        "a"
      ]
    },
    {
      "cell_type": "markdown",
      "metadata": {
        "id": "0ZAmkQfHM6Ce"
      },
      "source": [
        "#### 46. Create a structured array with `x` and `y` coordinates covering the \\[0,1\\]x\\[0,1\\] area (★★☆) \n",
        "(**hint**: np.meshgrid)"
      ]
    },
    {
      "cell_type": "code",
      "execution_count": null,
      "metadata": {
        "id": "hxzqzF5DM6Ce"
      },
      "outputs": [],
      "source": [
        "a=np.ones((5,5),[('x',float),('y',float)])\n",
        "a['x'],a['y']=np.meshgrid(np.linspace(0,1,5),np.linspace(0,1,5))\n",
        "a"
      ]
    },
    {
      "cell_type": "markdown",
      "metadata": {
        "id": "jQJHZ1boM6Cf"
      },
      "source": [
        "####  47. Given two arrays, X and Y, construct the Cauchy matrix C (Cij =1/(xi - yj)) \n",
        "(**hint**: np.subtract.outer)"
      ]
    },
    {
      "cell_type": "code",
      "execution_count": null,
      "metadata": {
        "id": "JVHXNVi6M6Cf"
      },
      "outputs": [],
      "source": [
        "a=np.array([1,2,3,4])\n",
        "b=np.array([5,6,7])\n",
        "\n",
        "d=np.subtract.outer(a,b)\n",
        "z=1.0/d\n",
        "z\n"
      ]
    },
    {
      "cell_type": "markdown",
      "metadata": {
        "id": "-L8cWqNDM6Cf"
      },
      "source": [
        "#### 48. Print the minimum and maximum representable value for each numpy scalar type (★★☆) \n",
        "(**hint**: np.iinfo, np.finfo, eps)"
      ]
    },
    {
      "cell_type": "code",
      "execution_count": null,
      "metadata": {
        "id": "3Teyryr0M6Cf"
      },
      "outputs": [],
      "source": [
        "print(np.iinfo(np.int8).min)\n",
        "for i in [np.int8,np.int32,np.int64]:\n",
        "  print(np.iinfo(i).min)\n",
        "  print(np.iinfo(i).max)\n",
        "for j in [np.float16,np.float64] :\n",
        "  print(np.finfo(j).min)\n",
        "  print(np.finfo(j).max)\n",
        "  print(np.finfo(j).eps)"
      ]
    },
    {
      "cell_type": "markdown",
      "metadata": {
        "id": "8mt1X3DMM6Cf"
      },
      "source": [
        "#### 49. How to print all the values of an array? (★★☆) \n",
        "(**hint**: np.set\\_printoptions)"
      ]
    },
    {
      "cell_type": "code",
      "execution_count": null,
      "metadata": {
        "id": "ZAKU2dqCM6Cg"
      },
      "outputs": [],
      "source": [
        "np.set_printoptions(threshold=0)\n",
        "np.zeros((5,5))\n",
        "\n"
      ]
    },
    {
      "cell_type": "markdown",
      "metadata": {
        "id": "9k877e0FM6Cg"
      },
      "source": [
        "#### 50. How to find the closest value (to a given scalar) in a vector? (★★☆) \n",
        "(**hint**: argmin)"
      ]
    },
    {
      "cell_type": "code",
      "execution_count": null,
      "metadata": {
        "id": "PPyCpTAJM6Cg"
      },
      "outputs": [],
      "source": [
        "a=np.random.randint(1,5,6)\n",
        "a[np.argmin(a)]"
      ]
    },
    {
      "cell_type": "markdown",
      "metadata": {
        "id": "mhPvGqzyM6Cg"
      },
      "source": [
        "#### 51. Create a structured array representing a position (x,y) and a color (r,g,b) (★★☆) \n",
        "(**hint**: dtype)"
      ]
    },
    {
      "cell_type": "code",
      "execution_count": null,
      "metadata": {
        "id": "_PYL3EgsM6Cg"
      },
      "outputs": [],
      "source": [
        "a=np.ones(10,[('position',[('x',float,1),('y',float,1)]),\n",
        "                    ('color',[('r',int,1),('g',int,1),('b',int,1)])])\n",
        "\n",
        "print(a)"
      ]
    },
    {
      "cell_type": "markdown",
      "metadata": {
        "id": "d3FLU_-lM6Cg"
      },
      "source": [
        "#### 52. Consider a random vector with shape (100,2) representing coordinates, find point by point distances (★★☆) \n",
        "(**hint**: np.atleast\\_2d, T, np.sqrt)"
      ]
    },
    {
      "cell_type": "code",
      "execution_count": null,
      "metadata": {
        "id": "YaK-hQkqM6Cg"
      },
      "outputs": [],
      "source": [
        "a=np.ones((100,2))\n",
        "np.sqrt(np.atleast_2d(a).T)\n"
      ]
    },
    {
      "cell_type": "markdown",
      "metadata": {
        "id": "LFXF3_cNM6Ch"
      },
      "source": [
        "#### 53. How to convert a float (32 bits) array into an integer (32 bits) in place? \n",
        "(**hint**: astype(copy=False))"
      ]
    },
    {
      "cell_type": "code",
      "execution_count": null,
      "metadata": {
        "id": "aQJWRJNjM6Ch"
      },
      "outputs": [],
      "source": [
        "a=np.random.randn(5)\n",
        "print(a.astype(np.float32))\n",
        "print(a.astype(np.int32))"
      ]
    },
    {
      "cell_type": "markdown",
      "metadata": {
        "id": "nBXWF4_LM6Ch"
      },
      "source": [
        "#### 54. How to read the following file? (★★☆) \n",
        "(**hint**: np.genfromtxt)"
      ]
    },
    {
      "cell_type": "markdown",
      "metadata": {
        "id": "vubGbeulM6Ch"
      },
      "source": [
        "```\n",
        "1, 2, 3, 4, 5\n",
        "6,  ,  , 7, 8\n",
        " ,  , 9,10,11\n",
        "```"
      ]
    },
    {
      "cell_type": "code",
      "execution_count": null,
      "metadata": {
        "id": "JMN9xYvHM6Ch"
      },
      "outputs": [],
      "source": []
    },
    {
      "cell_type": "markdown",
      "metadata": {
        "id": "LZhgD7WXM6Ci"
      },
      "source": [
        "#### 55. What is the equivalent of enumerate for numpy arrays? (★★☆)\n",
        "\n",
        "> Indented block\n",
        "\n",
        "\n",
        "(**hint**: np.ndenumerate, np.ndindex)"
      ]
    },
    {
      "cell_type": "code",
      "execution_count": null,
      "metadata": {
        "id": "i80BMRWDM6Ci"
      },
      "outputs": [],
      "source": [
        "import numpy as np\n",
        "a=np.arange(9).reshape(3,3)\n",
        "for index,value in np.ndenumerate(a):\n",
        "  print(index,value)\n",
        "for index in np.ndindex(a.shape):\n",
        "  print(index,a[index])\n"
      ]
    },
    {
      "cell_type": "markdown",
      "metadata": {
        "id": "cF85ciFvM6Ci"
      },
      "source": [
        "#### 56. Generate a generic 2D Gaussian-like array (★★☆) \n",
        "(**hint**: np.meshgrid, np.exp)"
      ]
    },
    {
      "cell_type": "code",
      "execution_count": null,
      "metadata": {
        "id": "_YXg4aHKM6Ci"
      },
      "outputs": [],
      "source": [
        "x,y=np.meshgrid(np.linspace(-1,1,10),np.linspace(-1,1,10))\n",
        "np.exp(x,y)"
      ]
    },
    {
      "cell_type": "markdown",
      "metadata": {
        "id": "tlkTlFUmM6Ci"
      },
      "source": [
        "#### 57. How to randomly place p elements in a 2D array? (★★☆) \n",
        "(**hint**: np.put, np.random.choice)"
      ]
    },
    {
      "cell_type": "code",
      "execution_count": null,
      "metadata": {
        "id": "J-e4O7PzM6Ci"
      },
      "outputs": [],
      "source": [
        "a=np.random.random(9)\n",
        "print(a)\n",
        "print()\n",
        "print(np.random.choice(a))\n",
        "print(np.put(a,[2,0],[11,22]))"
      ]
    },
    {
      "cell_type": "markdown",
      "metadata": {
        "id": "6OGHG0HRM6Cj"
      },
      "source": [
        "#### 58. Subtract the mean of each row of a matrix (★★☆) \n",
        "(**hint**: mean(axis=,keepdims=))"
      ]
    },
    {
      "cell_type": "code",
      "execution_count": null,
      "metadata": {
        "id": "juFND1bBM6Cj"
      },
      "outputs": [],
      "source": [
        "n=np.random.random(9).reshape(3,3)\n",
        "print(n)\n",
        "n-n.mean(axis=1,keepdims=False)"
      ]
    },
    {
      "cell_type": "markdown",
      "metadata": {
        "id": "N1GdGMiTM6Cj"
      },
      "source": [
        "#### 59. How to sort an array by the nth column? (★★☆) \n",
        "(**hint**: argsort)"
      ]
    },
    {
      "cell_type": "code",
      "execution_count": null,
      "metadata": {
        "id": "chJ4daWXM6Cj"
      },
      "outputs": [],
      "source": [
        "import numpy as np\n",
        "\n",
        "a=np.arange(0,9).reshape(3,3)\n",
        "print(a)\n",
        "print(np.argsort(a,axis=0,kind='heapsort'))\n",
        "# np.take_along_axis(a,n,axis=0)"
      ]
    },
    {
      "cell_type": "markdown",
      "metadata": {
        "id": "M1VoS2sRM6Cj"
      },
      "source": [
        "#### 60. How to tell if a given 2D array has null columns? (★★☆) \n",
        "(**hint**: any, ~)"
      ]
    },
    {
      "cell_type": "code",
      "source": [
        "a=np.random.randint(0,3,(3,10))\n",
        "print((~a.any(axis=0)).any())"
      ],
      "metadata": {
        "id": "DR5kFzfHTQDT"
      },
      "execution_count": null,
      "outputs": []
    },
    {
      "cell_type": "code",
      "execution_count": null,
      "metadata": {
        "id": "Um1fkbxsM6Cj"
      },
      "outputs": [],
      "source": []
    },
    {
      "cell_type": "markdown",
      "metadata": {
        "id": "nbL3DsigM6Cj"
      },
      "source": [
        "#### 61. Find the nearest value from a given value in an array (★★☆) \n",
        "(**hint**: np.abs, argmin, flat)"
      ]
    },
    {
      "cell_type": "code",
      "execution_count": null,
      "metadata": {
        "id": "u14Uab1FM6Ck"
      },
      "outputs": [],
      "source": [
        "n=np.arange(0,10)\n",
        "N=2.5\n",
        "m=n.flat[np.abs(N-n).argmin()]\n",
        "print(m)"
      ]
    },
    {
      "cell_type": "markdown",
      "metadata": {
        "id": "_qfntxUoM6Ck"
      },
      "source": [
        "#### 62. Considering two arrays with shape (1,3) and (3,1), how to compute their sum using an iterator? (★★☆) \n",
        "(**hint**: np.nditer)"
      ]
    },
    {
      "cell_type": "code",
      "execution_count": null,
      "metadata": {
        "id": "UXzhBheDM6Ck"
      },
      "outputs": [],
      "source": [
        "x=np.random.randint(1,4,(1,3))\n",
        "y=np.random.randint(10,14,(3,1))\n",
        "print(x,y)\n",
        "for i,j in np.nditer([x,y],order='C'):\n",
        "  print(i+j)"
      ]
    },
    {
      "cell_type": "markdown",
      "metadata": {
        "id": "GIr4_74KM6Ck"
      },
      "source": [
        "#### 63. Create an array class that has a name attribute (★★☆) \n",
        "(**hint**: class method)"
      ]
    },
    {
      "cell_type": "code",
      "execution_count": null,
      "metadata": {
        "id": "ZGAVWg9dM6Ck"
      },
      "outputs": [],
      "source": [
        "class name:"
      ]
    },
    {
      "cell_type": "markdown",
      "metadata": {
        "id": "_Z1OqBVvM6Ck"
      },
      "source": [
        "#### 64. Consider a given vector, how to add 1 to each element indexed by a second vector (be careful with repeated indices)? (★★★) \n",
        "(**hint**: np.bincount | np.add.at)"
      ]
    },
    {
      "cell_type": "code",
      "execution_count": null,
      "metadata": {
        "id": "WVQ78nG-M6Cl"
      },
      "outputs": [],
      "source": [
        "a=np.ones(10)\n",
        "print(a)\n",
        "B=np.random.randint(0,len(a),10)\n",
        "z=np.bincount(B,minlength=len(a))\n",
        "z"
      ]
    },
    {
      "cell_type": "markdown",
      "metadata": {
        "id": "SIC2HPUkM6Cl"
      },
      "source": [
        "#### 65. How to accumulate elements of a vector (X) to an array (F) based on an index list (I)? (★★★) \n",
        "(**hint**: np.bincount)"
      ]
    },
    {
      "cell_type": "code",
      "execution_count": null,
      "metadata": {
        "id": "PEY-vjEKM6Cl"
      },
      "outputs": [],
      "source": [
        "a=np.arange(5)\n",
        "np.bincount(a,minlength=8)\n"
      ]
    },
    {
      "cell_type": "markdown",
      "metadata": {
        "id": "j8OqGM-dM6Cl"
      },
      "source": [
        "#### 66. Considering a (w,h,3) image of (dtype=ubyte), compute the number of unique colors (★★★) \n",
        "(**hint**: np.unique)"
      ]
    },
    {
      "cell_type": "code",
      "execution_count": null,
      "metadata": {
        "id": "QDD1ziBtM6Cl"
      },
      "outputs": [],
      "source": [
        "import numpy as np\n",
        "\n",
        "I=np.random.randint(0,2,(5,5)).astype(np.ubyte)\n",
        "D=I[...,0]*256*256+I[...,1]*256+I[...,2]\n",
        "n=len(D)\n",
        "print(np.unique(I))"
      ]
    },
    {
      "cell_type": "markdown",
      "metadata": {
        "id": "hPDVqceUM6Cm"
      },
      "source": [
        "#### 67. Considering a four dimensions array, how to get sum over the last two axis at once? (★★★) \n",
        "(**hint**: sum(axis=(-2,-1)))"
      ]
    },
    {
      "cell_type": "code",
      "execution_count": null,
      "metadata": {
        "id": "Fp1vQOEDM6Cm"
      },
      "outputs": [],
      "source": [
        "N=np.random.randint(1,10,(3,4,3,4))\n",
        "sum=N.reshape(N.shape)\n",
        "N.sum(axis=(-2,-1))\n"
      ]
    },
    {
      "cell_type": "markdown",
      "metadata": {
        "id": "6mbCRdhKM6Cm"
      },
      "source": [
        "#### 68. Considering a one-dimensional vector D, how to compute means of subsets of D using a vector S of same size describing subset  indices? (★★★) \n",
        "(**hint**: np.bincount)"
      ]
    },
    {
      "cell_type": "code",
      "execution_count": null,
      "metadata": {
        "id": "kNM7M-tuM6Cm"
      },
      "outputs": [],
      "source": [
        "D=np.arange(1,10,5)\n",
        "S=np.arange(1,10,5)\n",
        "np.bincount(S,weights=D)"
      ]
    },
    {
      "cell_type": "markdown",
      "metadata": {
        "id": "Zu9CrJ_XM6Cn"
      },
      "source": [
        "#### 69. How to get the diagonal of a dot product? (★★★) \n",
        "(**hint**: np.diag)"
      ]
    },
    {
      "cell_type": "code",
      "execution_count": null,
      "metadata": {
        "id": "OMdvVzAJM6Cn"
      },
      "outputs": [],
      "source": [
        "A=np.random.randint(1,5,(5,5))\n",
        "B=np.random.randint(1,5,(5,5))\n",
        "np.diag(np.dot(A,B))"
      ]
    },
    {
      "cell_type": "markdown",
      "metadata": {
        "id": "BcMuHs6rM6Cn"
      },
      "source": [
        "#### 70. Consider the vector \\[1, 2, 3, 4, 5\\], how to build a new vector with 3 consecutive zeros interleaved between each value? (★★★) \n",
        "(**hint**: array\\[::4\\])"
      ]
    },
    {
      "cell_type": "code",
      "execution_count": null,
      "metadata": {
        "id": "9cLf5hlMM6Cn"
      },
      "outputs": [],
      "source": [
        "a=[1,2,3,4,5]\n",
        "z=np.zeros(len(a)+(len(a)-1)*3)\n",
        "z[::4]=a\n",
        "z"
      ]
    },
    {
      "cell_type": "markdown",
      "metadata": {
        "id": "dtePLtVLM6Co"
      },
      "source": [
        "#### 71. Consider an array of dimension (5,5,3), how to mulitply it by an array with dimensions (5,5)? (★★★) \n",
        "(**hint**: array\\[:, :, None\\])"
      ]
    },
    {
      "cell_type": "code",
      "execution_count": null,
      "metadata": {
        "collapsed": true,
        "id": "ZRRtfomWM6Co"
      },
      "outputs": [],
      "source": [
        "a=np.ones((5,5,3))\n",
        "b=3*np.ones((5,5))\n",
        "print(a*b[:,:,None])"
      ]
    },
    {
      "cell_type": "markdown",
      "metadata": {
        "id": "tXt81DTuM6Cp"
      },
      "source": [
        "#### 72. How to swap two rows of an array? (★★★) \n",
        "(**hint**: array\\[\\[\\]\\] = array\\[\\[\\]\\])"
      ]
    },
    {
      "cell_type": "code",
      "execution_count": null,
      "metadata": {
        "id": "jz2n2LqWM6Cp"
      },
      "outputs": [],
      "source": [
        "a=np.random.randint(1,6,(3,3))\n",
        "print(a)\n",
        "a[[0,1]]=a[[1,0]]\n",
        "a"
      ]
    },
    {
      "cell_type": "markdown",
      "metadata": {
        "id": "SsYblWjkM6Cp"
      },
      "source": [
        "#### 73. Consider a set of 10 triplets describing 10 triangles (with shared vertices), find the set of unique line segments composing all the  triangles (★★★) \n",
        "(**hint**: repeat, np.roll, np.sort, view, np.unique)"
      ]
    },
    {
      "cell_type": "code",
      "source": [
        "a=np.random.randint(1,50,(10,3))\n",
        "\n",
        "b=np.roll(a.repeat(2,axis=1),-1,axis=1)\n",
        "b=b.reshape(len(b)*3,2)\n",
        "b=np.sort(b,axis=1)\n",
        "b=b.view(dtype=[('F0',b.dtype),('f1',b.dtype)])\n",
        "z=np.unique(b)\n",
        "print(z)"
      ],
      "metadata": {
        "id": "28BGDGA3F_XU"
      },
      "execution_count": null,
      "outputs": []
    },
    {
      "cell_type": "markdown",
      "metadata": {
        "id": "WIo9o2EvM6Cq"
      },
      "source": [
        "#### 74. Given an array C that is a bincount, how to produce an array A such that np.bincount(A) == C? (★★★) \n",
        "(**hint**: np.repeat)"
      ]
    },
    {
      "cell_type": "code",
      "execution_count": null,
      "metadata": {
        "id": "mIn2Z_J7M6Cr"
      },
      "outputs": [],
      "source": [
        "c=np.bincount([1,1,3,4,4,6,7])\n",
        "z=np.repeat(np.arange(len(c)),c)\n",
        "z"
      ]
    },
    {
      "cell_type": "markdown",
      "metadata": {
        "id": "OwTDZsQ0M6Cs"
      },
      "source": [
        "#### 75. How to compute averages using a sliding window over an array? (★★★) \n",
        "(**hint**: np.cumsum)"
      ]
    },
    {
      "cell_type": "code",
      "execution_count": null,
      "metadata": {
        "id": "EDZcorFyM6Cs"
      },
      "outputs": [],
      "source": [
        "a=np.arange(0,10)\n",
        "\n",
        "c[4:]=c[4:]-c[:-4]\n",
        "c[4-1:]/4"
      ]
    },
    {
      "cell_type": "markdown",
      "metadata": {
        "id": "HC-Ml7d3M6Cs"
      },
      "source": [
        "#### 76. Consider a one-dimensional array Z, build a two-dimensional array whose first row is (Z\\[0\\],Z\\[1\\],Z\\[2\\]) and each subsequent row is  shifted by 1 (last row should be (Z\\[-3\\],Z\\[-2\\],Z\\[-1\\]) (★★★) \n",
        "(**hint**: from numpy.lib import stride_tricks)"
      ]
    },
    {
      "cell_type": "code",
      "execution_count": null,
      "metadata": {
        "id": "o2HRDuHrM6Ct"
      },
      "outputs": [],
      "source": [
        "from numpy.lib import stride_tricks\n",
        "a=np.arange(0,10)\n",
        "s=(a.size-3+1,3)\n",
        "st=(a.itemsize,a.itemsize)\n",
        "c=np.lib.stride_tricks.as_strided(a,shape=s,strides=st)\n",
        "c"
      ]
    },
    {
      "cell_type": "markdown",
      "metadata": {
        "id": "nHKwPe6JM6Ct"
      },
      "source": [
        "#### 77. How to negate a boolean, or to change the sign of a float inplace? (★★★) \n",
        "(**hint**: np.logical_not, np.negative)"
      ]
    },
    {
      "cell_type": "code",
      "execution_count": null,
      "metadata": {
        "id": "dLd6EUy1M6Cu"
      },
      "outputs": [],
      "source": [
        "Z = np.random.randint(0,2,100)\n",
        "print ('original: ')\n",
        "print (Z)\n",
        "print('Negating a boolean: ')\n",
        "print(np.logical_not(Z, out=Z))\n",
        "\n",
        "\n",
        "Z = np.random.uniform(-1.0,1.0,10)\n",
        "print ('original: ')\n",
        "print (Z)\n",
        "print ('Change the sign of float inplace: ')\n",
        "print(np.negative(Z, out=Z))"
      ]
    },
    {
      "cell_type": "markdown",
      "metadata": {
        "id": "S-gBDMWbM6Cu"
      },
      "source": [
        "#### 78. Consider 2 sets of points P0,P1 describing lines (2d) and a point p, how to compute distance from p to each line i  (P0\\[i\\],P1\\[i\\])? (★★★)"
      ]
    },
    {
      "cell_type": "code",
      "execution_count": null,
      "metadata": {
        "id": "vV37oj1NM6Cu"
      },
      "outputs": [],
      "source": []
    },
    {
      "cell_type": "markdown",
      "metadata": {
        "id": "N8cs4Z-1M6Cv"
      },
      "source": [
        "#### 79. Consider 2 sets of points P0,P1 describing lines (2d) and a set of points P, how to compute distance from each point j (P\\[j\\]) to each line i (P0\\[i\\],P1\\[i\\])? (★★★)"
      ]
    },
    {
      "cell_type": "code",
      "execution_count": null,
      "metadata": {
        "id": "cgw7iTuXM6Cv"
      },
      "outputs": [],
      "source": []
    },
    {
      "cell_type": "markdown",
      "metadata": {
        "id": "XAj5G9WwM6Cw"
      },
      "source": [
        "#### 80. Consider an arbitrary array, write a function that extract a subpart with a fixed shape and centered on a given element (pad with a `fill` value when necessary) (★★★) \n",
        "(**hint**: minimum, maximum)"
      ]
    },
    {
      "cell_type": "code",
      "execution_count": null,
      "metadata": {
        "id": "8eovhm5xM6Cx"
      },
      "outputs": [],
      "source": []
    },
    {
      "cell_type": "markdown",
      "metadata": {
        "id": "pXqw6M-lM6Cx"
      },
      "source": [
        "#### 81. Consider an array Z = \\[1,2,3,4,5,6,7,8,9,10,11,12,13,14\\], how to generate an array R = \\[\\[1,2,3,4\\], \\[2,3,4,5\\], \\[3,4,5,6\\], ..., \\[11,12,13,14\\]\\]? (★★★) \n",
        "(**hint**: stride\\_tricks.as\\_strided)"
      ]
    },
    {
      "cell_type": "code",
      "execution_count": null,
      "metadata": {
        "id": "nb2BJvcwM6Cy"
      },
      "outputs": [],
      "source": [
        "a=np.arange(1,15)\n",
        "s=(a.size-4+1,4)\n",
        "st=(a.itemsize,a.itemsize)\n",
        "c=np.lib.stride_tricks.as_strided(a,shape=s,strides=st)\n",
        "print(a)\n",
        "print(c)"
      ]
    },
    {
      "cell_type": "markdown",
      "metadata": {
        "id": "lenqeON7M6Cy"
      },
      "source": [
        "#### 82. Compute a matrix rank (★★★) \n",
        "(**hint**: np.linalg.svd) (suggestion: np.linalg.svd)"
      ]
    },
    {
      "cell_type": "code",
      "source": [
        "a=np.random.randint(1,10,(4,4))\n",
        "s,v,d=np.linalg.svd(a)\n",
        "np.sum(v> 1e-10)"
      ],
      "metadata": {
        "id": "onYc52G0q2tt"
      },
      "execution_count": null,
      "outputs": []
    },
    {
      "cell_type": "markdown",
      "metadata": {
        "id": "z_utTjhIM6Cz"
      },
      "source": [
        "#### 83. How to find the most frequent value in an array? \n",
        "(**hint**: np.bincount, argmax)"
      ]
    },
    {
      "cell_type": "code",
      "execution_count": null,
      "metadata": {
        "id": "YisxuQPRM6Cz"
      },
      "outputs": [],
      "source": [
        "a=np.random.randint(1,10,20)\n",
        "print(a)\n",
        "np.bincount(a).argmax()"
      ]
    },
    {
      "cell_type": "markdown",
      "metadata": {
        "id": "n3g7OZThM6Cz"
      },
      "source": [
        "#### 84. Extract all the contiguous 3x3 blocks from a random 10x10 matrix (★★★) \n",
        "(**hint**: stride\\_tricks.as\\_strided)"
      ]
    },
    {
      "cell_type": "code",
      "execution_count": null,
      "metadata": {
        "id": "0cnpx0mvM6C0"
      },
      "outputs": [],
      "source": [
        "a=np.random.randint(1,15,(10,10))\n",
        "s=1+a.shape[0]-3\n",
        "t=1+a.shape[1]-3\n",
        "\n",
        "c=np.lib.stride_tricks.as_strided(a,shape=(s,t,3,3),strides=a.strides+a.strides)\n",
        "c"
      ]
    },
    {
      "cell_type": "markdown",
      "metadata": {
        "id": "pUDe7HYrM6C0"
      },
      "source": [
        "#### 85. Create a 2D array subclass such that Z\\[i,j\\] == Z\\[j,i\\] (★★★) \n",
        "(**hint**: class method)"
      ]
    },
    {
      "cell_type": "code",
      "execution_count": null,
      "metadata": {
        "id": "5CbpjH3kM6C0"
      },
      "outputs": [],
      "source": []
    },
    {
      "cell_type": "markdown",
      "metadata": {
        "id": "TSVefU6ZM6C1"
      },
      "source": [
        "#### 86. Consider a set of p matrices wich shape (n,n) and a set of p vectors with shape (n,1). How to compute the sum of of the p matrix products at once? (result has shape (n,1)) (★★★) \n",
        "(**hint**: np.tensordot)"
      ]
    },
    {
      "cell_type": "code",
      "execution_count": null,
      "metadata": {
        "id": "D2n-Cxd7M6C1"
      },
      "outputs": [],
      "source": []
    },
    {
      "cell_type": "markdown",
      "metadata": {
        "id": "jeasPAFUM6C1"
      },
      "source": [
        "#### 87. Consider a 16x16 array, how to get the block-sum (block size is 4x4)? (★★★) \n",
        "(**hint**: np.add.reduceat)"
      ]
    },
    {
      "cell_type": "code",
      "execution_count": null,
      "metadata": {
        "id": "vz54jx7DM6C1"
      },
      "outputs": [],
      "source": [
        "a=np.ones((16,16))\n",
        "c=np.add.reduceat(np.add.reduceat(a,np.arange(0,a.shape[0],4),axis=0),np.arange(0,a.shape[1],4),axis=1)\n",
        "c"
      ]
    },
    {
      "cell_type": "markdown",
      "metadata": {
        "id": "j531PbdHM6C1"
      },
      "source": [
        "#### 88. How to implement the Game of Life using numpy arrays? (★★★)"
      ]
    },
    {
      "cell_type": "code",
      "execution_count": null,
      "metadata": {
        "id": "SH1sLlXnM6C2"
      },
      "outputs": [],
      "source": []
    },
    {
      "cell_type": "markdown",
      "metadata": {
        "id": "0dUEnD-3M6C2"
      },
      "source": [
        "#### 89. How to get the n largest values of an array (★★★) \n",
        "(**hint**: np.argsort | np.argpartition)"
      ]
    },
    {
      "cell_type": "code",
      "execution_count": null,
      "metadata": {
        "id": "5JtEhGx0M6C2"
      },
      "outputs": [],
      "source": [
        "a=np.arange(1000)\n",
        "np.random.shuffle(a)\n",
        "n=5\n",
        "print(a[np.argsort(a)[-n:]])\n",
        "print(a[np.argpartition(-a,n)[:n]])"
      ]
    },
    {
      "cell_type": "markdown",
      "metadata": {
        "id": "AmIUFKVkM6C2"
      },
      "source": [
        "#### 90. Given an arbitrary number of vectors, build the cartesian product (every combinations of every item) (★★★) \n",
        "(**hint**: np.indices)"
      ]
    },
    {
      "cell_type": "code",
      "source": [],
      "metadata": {
        "id": "zkufFzRJ40SS"
      },
      "execution_count": null,
      "outputs": []
    },
    {
      "cell_type": "markdown",
      "metadata": {
        "id": "Ka6DhibyM6C3"
      },
      "source": [
        "#### 91. How to create a record array from a regular array? (★★★) \n",
        "(**hint**: np.core.records.fromarrays)"
      ]
    },
    {
      "cell_type": "code",
      "execution_count": null,
      "metadata": {
        "id": "LQxw7-5xM6C3"
      },
      "outputs": [],
      "source": [
        "Z = np.array([(\"Hello\", 2.5, 3),\n",
        "              (\"World\", 3.6, 2)])\n",
        "R = np.core.records.fromarrays(Z.T,\n",
        "                               names='col1, col2, col3',\n",
        "                               formats = 'S8, f8, i8')\n",
        "R"
      ]
    },
    {
      "cell_type": "markdown",
      "metadata": {
        "id": "3vv1KyKEM6C3"
      },
      "source": [
        "#### 92. Consider a large vector Z, compute Z to the power of 3 using 3 different methods (★★★) \n",
        "(**hint**: np.power, \\*, np.einsum)"
      ]
    },
    {
      "cell_type": "code",
      "execution_count": null,
      "metadata": {
        "id": "lj8pEWKaM6C4"
      },
      "outputs": [],
      "source": [
        "r=np.random.rand(5)\n",
        "print(r)\n",
        "%timeit np.power(r,3)\n",
        "%timeit r*r*r\n",
        "%timeit np.einsum('ss',r,r,r)"
      ]
    },
    {
      "cell_type": "markdown",
      "metadata": {
        "id": "tGrqunBPM6C4"
      },
      "source": [
        "#### 93. Consider two arrays A and B of shape (8,3) and (2,2). How to find rows of A that contain elements of each row of B regardless of the order of the elements in B? (★★★) \n",
        "(**hint**: np.where)"
      ]
    },
    {
      "cell_type": "code",
      "execution_count": null,
      "metadata": {
        "id": "JjjCKCseM6C4"
      },
      "outputs": [],
      "source": [
        "A = np.random.randint(0,5,(8,3))\n",
        "B = np.random.randint(0,5,(2,2))\n",
        "print(A)\n",
        "print(B)\n",
        "C = (A[..., np.newaxis, np.newaxis] == B)\n",
        "\n",
        "rows = (C.sum(axis=(1,2,3)) >= B.shape[1]).nonzero()[0]\n",
        "print(rows)"
      ]
    },
    {
      "cell_type": "markdown",
      "metadata": {
        "id": "ECuoqAGqM6C4"
      },
      "source": [
        "#### 94. Considering a 10x3 matrix, extract rows with unequal values (e.g. \\[2,2,3\\]) (★★★)"
      ]
    },
    {
      "cell_type": "code",
      "execution_count": null,
      "metadata": {
        "id": "sHT0DeI5M6C4"
      },
      "outputs": [],
      "source": [
        "a=np.random.randint(0,3,(10,3))\n",
        "b=np.logical_and.reduce(a[:,1:]==a[:,:-1],axis=1)\n",
        "z=a[~b]\n",
        "print(a)\n",
        "print(z)"
      ]
    },
    {
      "cell_type": "markdown",
      "metadata": {
        "id": "cza13zM5M6C4"
      },
      "source": [
        "#### 95. Convert a vector of ints into a matrix binary representation (★★★) \n",
        "(**hint**: np.unpackbits)"
      ]
    },
    {
      "cell_type": "code",
      "execution_count": null,
      "metadata": {
        "id": "UlVC1SLOM6C4"
      },
      "outputs": [],
      "source": []
    },
    {
      "cell_type": "markdown",
      "metadata": {
        "id": "LtBqF99oM6C5"
      },
      "source": [
        "#### 96. Given a two dimensional array, how to extract unique rows? (★★★) \n",
        "(**hint**: np.ascontiguousarray)"
      ]
    },
    {
      "cell_type": "code",
      "execution_count": null,
      "metadata": {
        "id": "UdovnA-kM6C5"
      },
      "outputs": [],
      "source": []
    },
    {
      "cell_type": "markdown",
      "metadata": {
        "id": "Ax5dJoRYM6C5"
      },
      "source": [
        "#### 97. Considering 2 vectors A & B, write the einsum equivalent of inner, outer, sum, and mul function (★★★) \n",
        "(**hint**: np.einsum)"
      ]
    },
    {
      "cell_type": "code",
      "execution_count": 324,
      "metadata": {
        "id": "VdxJECdvM6C5",
        "colab": {
          "base_uri": "https://localhost:8080/"
        },
        "outputId": "b2f03971-3b0b-4921-a7ba-702306c49a0d"
      },
      "outputs": [
        {
          "output_type": "execute_result",
          "data": {
            "text/plain": [
              "array([ 0,  6, 14, 24])"
            ]
          },
          "metadata": {},
          "execution_count": 324
        }
      ],
      "source": [
        "a=np.arange(4)\n",
        "b=np.arange(5,9)\n",
        "np.einsum('i->',a)#Sum\n",
        "np.einsum('i,j->ij',a,b)#outer\n",
        "np.einsum('i,i->i', a, b)#Multiply"
      ]
    },
    {
      "cell_type": "markdown",
      "metadata": {
        "id": "O84hbp0DM6C5"
      },
      "source": [
        "#### 98. Considering a path described by two vectors (X,Y), how to sample it using equidistant samples (★★★)? \n",
        "(**hint**: np.cumsum, np.interp)"
      ]
    },
    {
      "cell_type": "code",
      "execution_count": 305,
      "metadata": {
        "collapsed": true,
        "id": "cI8Q7chxM6C5"
      },
      "outputs": [],
      "source": []
    },
    {
      "cell_type": "markdown",
      "metadata": {
        "id": "cyu1Cj3RM6C5"
      },
      "source": [
        "#### 99. Given an integer n and a 2D array X, select from X the rows which can be interpreted as draws from a multinomial distribution with n degrees, i.e., the rows which only contain integers and which sum to n. (★★★) \n",
        "(**hint**: np.logical\\_and.reduce, np.mod)"
      ]
    },
    {
      "cell_type": "code",
      "execution_count": 305,
      "metadata": {
        "id": "aCzmeRciM6C6"
      },
      "outputs": [],
      "source": []
    },
    {
      "cell_type": "markdown",
      "metadata": {
        "id": "7McRmR43M6C6"
      },
      "source": [
        "#### 100. Compute bootstrapped 95% confidence intervals for the mean of a 1D array X (i.e., resample the elements of an array with replacement N times, compute the mean of each sample, and then compute percentiles over the means). (★★★) \n",
        "(**hint**: np.percentile)"
      ]
    },
    {
      "cell_type": "code",
      "execution_count": 305,
      "metadata": {
        "id": "34gsgw1XM6C6"
      },
      "outputs": [],
      "source": []
    }
  ],
  "metadata": {
    "kernelspec": {
      "display_name": "Python 3",
      "language": "python",
      "name": "python3"
    },
    "language_info": {
      "codemirror_mode": {
        "name": "ipython",
        "version": 3
      },
      "file_extension": ".py",
      "mimetype": "text/x-python",
      "name": "python",
      "nbconvert_exporter": "python",
      "pygments_lexer": "ipython3",
      "version": "3.8.3"
    },
    "colab": {
      "provenance": [],
      "collapsed_sections": [
        "1TYNWxyDM6B8",
        "7WmgIfFuM6B_",
        "meK9hg_FM6CB",
        "5c4oMLiyM6CC",
        "QN22e1nDM6CD",
        "uyCauVk4M6CE",
        "XdLfhh2vM6CF",
        "sonwH0vRM6CG",
        "t91_zjfZM6CH",
        "HFQ7mUsMM6CH",
        "e8z0nBMiM6CI",
        "rf7Ud3iGM6CJ",
        "t0t9Kz3QM6CK",
        "h38GMQsnM6CK",
        "B5dMxzITM6CL",
        "-4sm7N2LM6CL",
        "Zllr31vHM6CM",
        "GUd70cAVM6CN",
        "viL_RdSqM6CN",
        "q0DXsYLEM6CO",
        "eiazuFvXM6CP",
        "xFaVFW_TM6CQ",
        "VXYJQKo2M6CR",
        "5tzG8_UgM6CR",
        "vKCFUcHjM6CS",
        "MKuf6HsQM6CS",
        "SAZ9DooKM6CT",
        "X7TlLwvDM6CU",
        "sPYVAoRmM6CV",
        "awcPw5otM6CV",
        "CcQ4hOJTM6CW",
        "ZuyMILUdM6CW",
        "Q2mHPnX4M6CW",
        "Ov8uTvy8M6CX",
        "45c9rxRaM6CX",
        "KaPTPw3FM6CX",
        "9_7VpHN1M6CY",
        "C_g3nQxjM6CY",
        "Db8A5hGjM6CZ",
        "rCW5laT4M6CZ",
        "2kyLux81M6CZ",
        "BA5SdWJGM6CZ",
        "1-zhPWxVM6Ce",
        "0ZAmkQfHM6Ce",
        "jQJHZ1boM6Cf",
        "-L8cWqNDM6Cf",
        "8mt1X3DMM6Cf",
        "9k877e0FM6Cg",
        "mhPvGqzyM6Cg",
        "d3FLU_-lM6Cg",
        "LFXF3_cNM6Ch",
        "nBXWF4_LM6Ch",
        "LZhgD7WXM6Ci",
        "cF85ciFvM6Ci",
        "tlkTlFUmM6Ci",
        "6OGHG0HRM6Cj",
        "N1GdGMiTM6Cj",
        "M1VoS2sRM6Cj",
        "nbL3DsigM6Cj",
        "_qfntxUoM6Ck",
        "GIr4_74KM6Ck",
        "_Z1OqBVvM6Ck",
        "SIC2HPUkM6Cl",
        "j8OqGM-dM6Cl",
        "hPDVqceUM6Cm",
        "6mbCRdhKM6Cm",
        "Zu9CrJ_XM6Cn",
        "BcMuHs6rM6Cn",
        "dtePLtVLM6Co",
        "tXt81DTuM6Cp",
        "SsYblWjkM6Cp",
        "WIo9o2EvM6Cq",
        "OwTDZsQ0M6Cs",
        "HC-Ml7d3M6Cs",
        "nHKwPe6JM6Ct",
        "S-gBDMWbM6Cu",
        "N8cs4Z-1M6Cv",
        "XAj5G9WwM6Cw",
        "pXqw6M-lM6Cx",
        "lenqeON7M6Cy",
        "z_utTjhIM6Cz",
        "n3g7OZThM6Cz",
        "pUDe7HYrM6C0",
        "TSVefU6ZM6C1",
        "jeasPAFUM6C1",
        "j531PbdHM6C1",
        "0dUEnD-3M6C2",
        "AmIUFKVkM6C2",
        "Ka6DhibyM6C3",
        "3vv1KyKEM6C3",
        "tGrqunBPM6C4"
      ],
      "include_colab_link": true
    }
  },
  "nbformat": 4,
  "nbformat_minor": 0
}